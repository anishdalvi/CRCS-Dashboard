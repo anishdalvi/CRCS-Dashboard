{
  "nbformat": 4,
  "nbformat_minor": 0,
  "metadata": {
    "colab": {
      "provenance": [],
      "toc_visible": true
    },
    "kernelspec": {
      "name": "python3",
      "display_name": "Python 3"
    },
    "language_info": {
      "name": "python"
    }
  },
  "cells": [
    {
      "cell_type": "code",
      "execution_count": 1,
      "metadata": {
        "id": "mb_Mz7IoYGXd"
      },
      "outputs": [],
      "source": [
        "# import the libraries\n",
        "import pandas as pd\n",
        "import numpy as np\n",
        "import matplotlib.pyplot as plt\n",
        "import seaborn as sns"
      ]
    },
    {
      "cell_type": "code",
      "source": [
        "# read csv /content/DummyData.csv\n",
        "df = pd.read_csv(\"DummyDataWholeData.csv\")\n",
        "df.head(5)"
      ],
      "metadata": {
        "colab": {
          "base_uri": "https://localhost:8080/",
          "height": 354
        },
        "id": "XTdijVp9YXMj",
        "outputId": "f0632bf2-1121-4574-d1cd-e2538ac957d2"
      },
      "execution_count": 8,
      "outputs": [
        {
          "output_type": "execute_result",
          "data": {
            "text/plain": [
              "   Sr. No.                                    Name of Society  \\\n",
              "0        1     saharayn universal multipurose society limited   \n",
              "1        2      JMJ Multi State Agro Cooperative Society Ltd.   \n",
              "2        3  Devbhoomi Agro Multi State Cooperative Society...   \n",
              "3        4  Aarya Multi Specialty Cooperative Hospital and...   \n",
              "4        5     Agriculture Development Cooperative Federation   \n",
              "\n",
              "                                             Address          State  \\\n",
              "0  At & P.O. Railway Colony, Gorakkhpur, District...  UTTAR PRADESH   \n",
              "1  TC 48/1442-1, Sreeniva, Parekkati House, Chath...         KERALA   \n",
              "2  S/o Sateesh Kumar, Tejupur, Haridwar, Uttarakh...    UTTARAKHAND   \n",
              "3  Gate No 165, Nimgaon (T), Madha, Solapur, 4132...    MAHARASHTRA   \n",
              "4  A/P 344, Lower Ground Floor, Sector 86, Preet ...         PUNJAB   \n",
              "\n",
              "      District Date of Registration                        Area of Operation  \\\n",
              "0  KUSHI NAGAR           22-07-2022  Haryana, UttarPradesh, Himachal, Punjab   \n",
              "1     THRISSUR           13-10-2022               Bihar, West bengal, Odisha   \n",
              "2     HARIDWAR           04-10-2022                    Tamil Nadu, karnataks   \n",
              "3   AHMEDNAGAR           04-10-2022                          Haryana, Punajb   \n",
              "4       MOHALI           22-09-2022                       Manipur, Meghalaya   \n",
              "\n",
              "       Sector Type  \n",
              "0           Credit  \n",
              "1             Agro  \n",
              "2             Agro  \n",
              "3  Health/Hospital  \n",
              "4       Federation  "
            ],
            "text/html": [
              "\n",
              "  <div id=\"df-f2de804e-841c-4955-8bb2-9132d59ec71e\">\n",
              "    <div class=\"colab-df-container\">\n",
              "      <div>\n",
              "<style scoped>\n",
              "    .dataframe tbody tr th:only-of-type {\n",
              "        vertical-align: middle;\n",
              "    }\n",
              "\n",
              "    .dataframe tbody tr th {\n",
              "        vertical-align: top;\n",
              "    }\n",
              "\n",
              "    .dataframe thead th {\n",
              "        text-align: right;\n",
              "    }\n",
              "</style>\n",
              "<table border=\"1\" class=\"dataframe\">\n",
              "  <thead>\n",
              "    <tr style=\"text-align: right;\">\n",
              "      <th></th>\n",
              "      <th>Sr. No.</th>\n",
              "      <th>Name of Society</th>\n",
              "      <th>Address</th>\n",
              "      <th>State</th>\n",
              "      <th>District</th>\n",
              "      <th>Date of Registration</th>\n",
              "      <th>Area of Operation</th>\n",
              "      <th>Sector Type</th>\n",
              "    </tr>\n",
              "  </thead>\n",
              "  <tbody>\n",
              "    <tr>\n",
              "      <th>0</th>\n",
              "      <td>1</td>\n",
              "      <td>saharayn universal multipurose society limited</td>\n",
              "      <td>At &amp; P.O. Railway Colony, Gorakkhpur, District...</td>\n",
              "      <td>UTTAR PRADESH</td>\n",
              "      <td>KUSHI NAGAR</td>\n",
              "      <td>22-07-2022</td>\n",
              "      <td>Haryana, UttarPradesh, Himachal, Punjab</td>\n",
              "      <td>Credit</td>\n",
              "    </tr>\n",
              "    <tr>\n",
              "      <th>1</th>\n",
              "      <td>2</td>\n",
              "      <td>JMJ Multi State Agro Cooperative Society Ltd.</td>\n",
              "      <td>TC 48/1442-1, Sreeniva, Parekkati House, Chath...</td>\n",
              "      <td>KERALA</td>\n",
              "      <td>THRISSUR</td>\n",
              "      <td>13-10-2022</td>\n",
              "      <td>Bihar, West bengal, Odisha</td>\n",
              "      <td>Agro</td>\n",
              "    </tr>\n",
              "    <tr>\n",
              "      <th>2</th>\n",
              "      <td>3</td>\n",
              "      <td>Devbhoomi Agro Multi State Cooperative Society...</td>\n",
              "      <td>S/o Sateesh Kumar, Tejupur, Haridwar, Uttarakh...</td>\n",
              "      <td>UTTARAKHAND</td>\n",
              "      <td>HARIDWAR</td>\n",
              "      <td>04-10-2022</td>\n",
              "      <td>Tamil Nadu, karnataks</td>\n",
              "      <td>Agro</td>\n",
              "    </tr>\n",
              "    <tr>\n",
              "      <th>3</th>\n",
              "      <td>4</td>\n",
              "      <td>Aarya Multi Specialty Cooperative Hospital and...</td>\n",
              "      <td>Gate No 165, Nimgaon (T), Madha, Solapur, 4132...</td>\n",
              "      <td>MAHARASHTRA</td>\n",
              "      <td>AHMEDNAGAR</td>\n",
              "      <td>04-10-2022</td>\n",
              "      <td>Haryana, Punajb</td>\n",
              "      <td>Health/Hospital</td>\n",
              "    </tr>\n",
              "    <tr>\n",
              "      <th>4</th>\n",
              "      <td>5</td>\n",
              "      <td>Agriculture Development Cooperative Federation</td>\n",
              "      <td>A/P 344, Lower Ground Floor, Sector 86, Preet ...</td>\n",
              "      <td>PUNJAB</td>\n",
              "      <td>MOHALI</td>\n",
              "      <td>22-09-2022</td>\n",
              "      <td>Manipur, Meghalaya</td>\n",
              "      <td>Federation</td>\n",
              "    </tr>\n",
              "  </tbody>\n",
              "</table>\n",
              "</div>\n",
              "      <button class=\"colab-df-convert\" onclick=\"convertToInteractive('df-f2de804e-841c-4955-8bb2-9132d59ec71e')\"\n",
              "              title=\"Convert this dataframe to an interactive table.\"\n",
              "              style=\"display:none;\">\n",
              "        \n",
              "  <svg xmlns=\"http://www.w3.org/2000/svg\" height=\"24px\"viewBox=\"0 0 24 24\"\n",
              "       width=\"24px\">\n",
              "    <path d=\"M0 0h24v24H0V0z\" fill=\"none\"/>\n",
              "    <path d=\"M18.56 5.44l.94 2.06.94-2.06 2.06-.94-2.06-.94-.94-2.06-.94 2.06-2.06.94zm-11 1L8.5 8.5l.94-2.06 2.06-.94-2.06-.94L8.5 2.5l-.94 2.06-2.06.94zm10 10l.94 2.06.94-2.06 2.06-.94-2.06-.94-.94-2.06-.94 2.06-2.06.94z\"/><path d=\"M17.41 7.96l-1.37-1.37c-.4-.4-.92-.59-1.43-.59-.52 0-1.04.2-1.43.59L10.3 9.45l-7.72 7.72c-.78.78-.78 2.05 0 2.83L4 21.41c.39.39.9.59 1.41.59.51 0 1.02-.2 1.41-.59l7.78-7.78 2.81-2.81c.8-.78.8-2.07 0-2.86zM5.41 20L4 18.59l7.72-7.72 1.47 1.35L5.41 20z\"/>\n",
              "  </svg>\n",
              "      </button>\n",
              "      \n",
              "  <style>\n",
              "    .colab-df-container {\n",
              "      display:flex;\n",
              "      flex-wrap:wrap;\n",
              "      gap: 12px;\n",
              "    }\n",
              "\n",
              "    .colab-df-convert {\n",
              "      background-color: #E8F0FE;\n",
              "      border: none;\n",
              "      border-radius: 50%;\n",
              "      cursor: pointer;\n",
              "      display: none;\n",
              "      fill: #1967D2;\n",
              "      height: 32px;\n",
              "      padding: 0 0 0 0;\n",
              "      width: 32px;\n",
              "    }\n",
              "\n",
              "    .colab-df-convert:hover {\n",
              "      background-color: #E2EBFA;\n",
              "      box-shadow: 0px 1px 2px rgba(60, 64, 67, 0.3), 0px 1px 3px 1px rgba(60, 64, 67, 0.15);\n",
              "      fill: #174EA6;\n",
              "    }\n",
              "\n",
              "    [theme=dark] .colab-df-convert {\n",
              "      background-color: #3B4455;\n",
              "      fill: #D2E3FC;\n",
              "    }\n",
              "\n",
              "    [theme=dark] .colab-df-convert:hover {\n",
              "      background-color: #434B5C;\n",
              "      box-shadow: 0px 1px 3px 1px rgba(0, 0, 0, 0.15);\n",
              "      filter: drop-shadow(0px 1px 2px rgba(0, 0, 0, 0.3));\n",
              "      fill: #FFFFFF;\n",
              "    }\n",
              "  </style>\n",
              "\n",
              "      <script>\n",
              "        const buttonEl =\n",
              "          document.querySelector('#df-f2de804e-841c-4955-8bb2-9132d59ec71e button.colab-df-convert');\n",
              "        buttonEl.style.display =\n",
              "          google.colab.kernel.accessAllowed ? 'block' : 'none';\n",
              "\n",
              "        async function convertToInteractive(key) {\n",
              "          const element = document.querySelector('#df-f2de804e-841c-4955-8bb2-9132d59ec71e');\n",
              "          const dataTable =\n",
              "            await google.colab.kernel.invokeFunction('convertToInteractive',\n",
              "                                                     [key], {});\n",
              "          if (!dataTable) return;\n",
              "\n",
              "          const docLinkHtml = 'Like what you see? Visit the ' +\n",
              "            '<a target=\"_blank\" href=https://colab.research.google.com/notebooks/data_table.ipynb>data table notebook</a>'\n",
              "            + ' to learn more about interactive tables.';\n",
              "          element.innerHTML = '';\n",
              "          dataTable['output_type'] = 'display_data';\n",
              "          await google.colab.output.renderOutput(dataTable, element);\n",
              "          const docLink = document.createElement('div');\n",
              "          docLink.innerHTML = docLinkHtml;\n",
              "          element.appendChild(docLink);\n",
              "        }\n",
              "      </script>\n",
              "    </div>\n",
              "  </div>\n",
              "  "
            ]
          },
          "metadata": {},
          "execution_count": 8
        }
      ]
    },
    {
      "cell_type": "code",
      "source": [
        "df.State.value_counts()"
      ],
      "metadata": {
        "colab": {
          "base_uri": "https://localhost:8080/"
        },
        "id": "4accOTJXYjwb",
        "outputId": "64be53d4-3a38-49f8-eb66-21337a3e20c5"
      },
      "execution_count": 9,
      "outputs": [
        {
          "output_type": "execute_result",
          "data": {
            "text/plain": [
              "MAHARASHTRA          28\n",
              "UTTAR PRADESH        19\n",
              "KERALA                9\n",
              "TAMIL NADU            8\n",
              "TELANGANA             6\n",
              "NEW DELHI             5\n",
              "GUJARAT               4\n",
              "HARYANA               4\n",
              "BIHAR                 3\n",
              "MADHYA PRADESH        3\n",
              "MANIPUR               3\n",
              "ANDHRA PRADESH        2\n",
              "JAMMU AND KASHMIR     1\n",
              "PUNJAB                1\n",
              "ASSAM                 1\n",
              "UTTARAKHAND           1\n",
              "KARNATAKA             1\n",
              "WEST BENGAL           1\n",
              "Name: State, dtype: int64"
            ]
          },
          "metadata": {},
          "execution_count": 9
        }
      ]
    },
    {
      "cell_type": "code",
      "source": [
        "# To print no. of samples and attributes\n",
        "print(df.shape)"
      ],
      "metadata": {
        "colab": {
          "base_uri": "https://localhost:8080/"
        },
        "id": "epyF0VshYlnz",
        "outputId": "826cd570-e4b8-4525-c972-f0b3dca0b011"
      },
      "execution_count": 10,
      "outputs": [
        {
          "output_type": "stream",
          "name": "stdout",
          "text": [
            "(100, 8)\n"
          ]
        }
      ]
    },
    {
      "cell_type": "code",
      "source": [
        "# getting the columns of the dataset\n",
        "columns = list(df.columns)\n",
        "print(columns)"
      ],
      "metadata": {
        "colab": {
          "base_uri": "https://localhost:8080/"
        },
        "id": "LS3N1yJQYqDF",
        "outputId": "10d110f1-ef8e-481e-ca88-417fe93d3711"
      },
      "execution_count": 11,
      "outputs": [
        {
          "output_type": "stream",
          "name": "stdout",
          "text": [
            "['Sr. No.', 'Name of Society', 'Address', 'State', 'District', 'Date of Registration', 'Area of Operation', 'Sector Type']\n"
          ]
        }
      ]
    },
    {
      "cell_type": "code",
      "source": [
        "print(df.isnull().sum())"
      ],
      "metadata": {
        "colab": {
          "base_uri": "https://localhost:8080/"
        },
        "id": "oGyHiFCCYvlp",
        "outputId": "1917d110-1088-4385-a4d1-bbe8c5dbccd1"
      },
      "execution_count": 12,
      "outputs": [
        {
          "output_type": "stream",
          "name": "stdout",
          "text": [
            "Sr. No.                 0\n",
            "Name of Society         0\n",
            "Address                 0\n",
            "State                   0\n",
            "District                0\n",
            "Date of Registration    0\n",
            "Area of Operation       0\n",
            "Sector Type             0\n",
            "dtype: int64\n"
          ]
        }
      ]
    },
    {
      "cell_type": "code",
      "source": [
        "df['Sector Type'].value_counts()"
      ],
      "metadata": {
        "colab": {
          "base_uri": "https://localhost:8080/"
        },
        "id": "ZIuOf32mbMrr",
        "outputId": "e3bcdf96-1630-4950-cfaa-05fba304858c"
      },
      "execution_count": 15,
      "outputs": [
        {
          "output_type": "execute_result",
          "data": {
            "text/plain": [
              "Agro                  52\n",
              "Cooperative Bank      10\n",
              "Health/Hospital        9\n",
              "Credit                 6\n",
              "Housing                6\n",
              "Fisheries              5\n",
              "Others                 3\n",
              "Federation             2\n",
              "Industrial/Textile     2\n",
              "Marketing              2\n",
              "Tourism                1\n",
              "Construction           1\n",
              "Dairy                  1\n",
              "Name: Sector Type, dtype: int64"
            ]
          },
          "metadata": {},
          "execution_count": 15
        }
      ]
    },
    {
      "cell_type": "code",
      "source": [
        "df.District.value_counts()"
      ],
      "metadata": {
        "colab": {
          "base_uri": "https://localhost:8080/"
        },
        "id": "78cqOH3BYz2Z",
        "outputId": "383fe774-567e-4228-9783-bf249226d6c0"
      },
      "execution_count": 13,
      "outputs": [
        {
          "output_type": "execute_result",
          "data": {
            "text/plain": [
              "AHMEDNAGAR            6\n",
              "NEW DELHI             5\n",
              "LUCKNOW               5\n",
              "COIMBATORE            4\n",
              "BEED                  4\n",
              "ADILABAD              3\n",
              "BISHNUPUR             3\n",
              "KOLHAPUR              3\n",
              "THRISSUR              3\n",
              "ERNAKULAM             2\n",
              "BHOPAL                2\n",
              "NAGPUR                2\n",
              "BULANDSHAHR           2\n",
              "PATNA                 2\n",
              "SANGLI                2\n",
              "CHENNAI               2\n",
              "JHANSI                2\n",
              "KUSHI NAGAR           2\n",
              "BAREILLY              2\n",
              "NASIK                 2\n",
              "THANE                 2\n",
              "HYDERABAD             2\n",
              "CHIRANG               1\n",
              "MUMBAI                1\n",
              "MALDAH                1\n",
              "SOLAPUR               1\n",
              "GURGAON               1\n",
              "THIRUVALLUR           1\n",
              "LALITPUR              1\n",
              "JALGAON               1\n",
              "KARIMNAGAR            1\n",
              "WEST GODAVARI         1\n",
              "SURAT                 1\n",
              "KANNUR                1\n",
              "PANIPAT               1\n",
              "DHARMAPURI            1\n",
              "SHIMOGA               1\n",
              "BHIND                 1\n",
              "SONIPAT               1\n",
              "MUZAFFARNAGAR         1\n",
              "BASTI                 1\n",
              "HARIDWAR              1\n",
              "MOHALI                1\n",
              "PUNE                  1\n",
              "IDUKKI                1\n",
              "THIRUVANANTHAPURAM    1\n",
              "FARIDABAD             1\n",
              "VISAKHAPATANAM        1\n",
              "KOZHIKODE             1\n",
              "BULDHANA              1\n",
              "BANDA                 1\n",
              "OSMANABAD             1\n",
              "BADGAM                1\n",
              "BHANDARA              1\n",
              "AHMADABAD             1\n",
              "MORADABAD             1\n",
              "VALSAD                1\n",
              "BATOD                 1\n",
              "DEORIA                1\n",
              "BUXAR                 1\n",
              "Name: District, dtype: int64"
            ]
          },
          "metadata": {},
          "execution_count": 13
        }
      ]
    },
    {
      "cell_type": "code",
      "source": [],
      "metadata": {
        "id": "3IlIIuhHZvHc"
      },
      "execution_count": null,
      "outputs": []
    }
  ]
}